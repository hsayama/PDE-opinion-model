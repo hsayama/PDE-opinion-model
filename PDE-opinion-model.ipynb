{
 "cells": [
  {
   "cell_type": "markdown",
   "metadata": {},
   "source": [
    "# PDE-based opinion model: Numerical simulation\n",
    "## Hiroki Sayama\n",
    "### sayama@binghamton.edu\n",
    "\n",
    "This is the code used to simulate the PDE-based opinion formation model studied in the following paper:\n",
    "- Sayama, H. (2020) _Phys. Rev. E_ 102, 012303. https://doi.org/10.1103/PhysRevE.102.012303\n",
    "\n",
    "Note that this simulation is quite time-consuming (a single run may take several hours). Once the simulation ends, the results will be saved in a CSV file and the final state of the system will be plotted. A space-time visualization as shown in the paper can be generated using Mathematica (code available on GitHub)."
   ]
  },
  {
   "cell_type": "code",
   "execution_count": null,
   "metadata": {},
   "outputs": [],
   "source": [
    "const n = 1000;\n",
    "const L = 50;\n",
    "const dx = L / n;\n",
    "const dy = L / n;\n",
    "const dt = 0.001;\n",
    "const R = Int64(20 / dy);\n",
    "\n",
    "const Ph = 1.;\n",
    "const c = 1.;\n",
    "const d = 0.2;"
   ]
  },
  {
   "cell_type": "code",
   "execution_count": null,
   "metadata": {},
   "outputs": [],
   "source": [
    "function g(y::Float64, σ::Float64, μ::Float64)::Float64\n",
    "    1/2μ * 1/(sqrt(2π)*σ) * (exp(-1/2*((y-μ)/σ)^2) - exp(-1/2*((y+μ)/σ)^2))\n",
    "end;"
   ]
  },
  {
   "cell_type": "code",
   "execution_count": null,
   "metadata": {},
   "outputs": [],
   "source": [
    "function bound(i::Int64)::Int64\n",
    "    mod(i - 1, n) + 1\n",
    "end;"
   ]
  },
  {
   "cell_type": "code",
   "execution_count": null,
   "metadata": {},
   "outputs": [],
   "source": [
    "function update(P, σ::Float64, μ::Float64)\n",
    "    nP = zeros(n)\n",
    "    for i in 1:n\n",
    "        gradP = (P[bound(i+1)] - P[bound(i-1)]) / (2dx);\n",
    "        lapP = (P[bound(i+1)] + P[bound(i-1)] - 2*P[i]) / (dx^2);\n",
    "        GP = sum(P[bound(i+j)]*g(j*dy, σ, μ) for j in -R:R)*dy;\n",
    "        gradGP = sum((P[bound(i+j+1)] - P[bound(i+j-1)])*g(j*dy, σ, μ) for j in -R:R) / 2;\n",
    "        nP[i] = P[i] + (d*lapP - c*(gradP*GP + P[i]*gradGP))*dt;\n",
    "    end\n",
    "    nP\n",
    "end;"
   ]
  },
  {
   "cell_type": "code",
   "execution_count": null,
   "metadata": {},
   "outputs": [],
   "source": [
    "function simulation(σ, μ)\n",
    "    P = (Ph - 0.01)*ones(n) + 0.02*rand(n);\n",
    "\n",
    "    results = [];\n",
    "    push!(results, P);\n",
    "\n",
    "    t = 0.\n",
    "    while t < 100\n",
    "        t += dt\n",
    "        P = update(P, σ, μ)\n",
    "        if true in [isnan(pp) for pp in P]\n",
    "            println(\"NaN occurred!\")\n",
    "            push!(results, P)\n",
    "            return results\n",
    "        end\n",
    "        if floor(t) != floor(t - dt)\n",
    "            print(floor(Int, t), \" \")\n",
    "            push!(results, P)\n",
    "        end\n",
    "    end\n",
    "    return results\n",
    "end;"
   ]
  },
  {
   "cell_type": "code",
   "execution_count": null,
   "metadata": {},
   "outputs": [],
   "source": [
    "using DelimitedFiles"
   ]
  },
  {
   "cell_type": "code",
   "execution_count": null,
   "metadata": {},
   "outputs": [],
   "source": [
    "σ = 1.;\n",
    "μ = 1.;\n",
    "results = simulation(σ, μ);\n",
    "writedlm(\"results_sigma=\" * string(σ) * \"_mu=\" * string(μ) * \".csv\", results, \",\");"
   ]
  },
  {
   "cell_type": "code",
   "execution_count": null,
   "metadata": {},
   "outputs": [],
   "source": [
    "using Plots"
   ]
  },
  {
   "cell_type": "code",
   "execution_count": null,
   "metadata": {},
   "outputs": [],
   "source": [
    "plot(0:dx:dx*(n-1), results[end], xlabel = \"x\", ylabel = \"P(x)\", \n",
    "     title = \"Final state\", ylims = (0, 20))"
   ]
  },
  {
   "cell_type": "code",
   "execution_count": null,
   "metadata": {},
   "outputs": [],
   "source": []
  }
 ],
 "metadata": {
  "kernelspec": {
   "display_name": "Julia 1.5.2",
   "language": "julia",
   "name": "julia-1.5"
  },
  "language_info": {
   "file_extension": ".jl",
   "mimetype": "application/julia",
   "name": "julia",
   "version": "1.5.2"
  }
 },
 "nbformat": 4,
 "nbformat_minor": 2
}
